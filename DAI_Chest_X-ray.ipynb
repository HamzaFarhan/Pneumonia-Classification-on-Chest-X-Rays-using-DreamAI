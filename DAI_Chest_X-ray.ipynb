{
 "cells": [
  {
   "cell_type": "markdown",
   "metadata": {},
   "source": [
    "# Pneumonia Classification on Chest X-Rays using DreamAI"
   ]
  },
  {
   "cell_type": "markdown",
   "metadata": {},
   "source": [
    "## Imports"
   ]
  },
  {
   "cell_type": "code",
   "execution_count": 1,
   "metadata": {},
   "outputs": [],
   "source": [
    "import sys\n",
    "\n",
    "# Make sure to change this path to your folder with DreamAI\n",
    "\n",
    "sys.path.insert(0, '/home/farhan/hamza/dreamai/') # Folder with DreamAI\n",
    "\n",
    "# Things below are all included in the dreamai folder\n",
    "\n",
    "import cv_model\n",
    "import utils\n",
    "import obj_utils\n",
    "from dai_imports import*\n",
    "\n",
    "%load_ext autoreload\n",
    "%autoreload 2"
   ]
  },
  {
   "cell_type": "markdown",
   "metadata": {},
   "source": [
    "Your dataset folder, in this case I've named it 'github_chest_xray' should look something like this:"
   ]
  },
  {
   "cell_type": "markdown",
   "metadata": {},
   "source": [
    "![title](xray_folder.png)"
   ]
  },
  {
   "cell_type": "markdown",
   "metadata": {},
   "source": [
    "Setup the necessary paths.\n",
    "\n",
    "All the train,val,test dataframes will be saved in the folder with the dataset. All the best model files will be saved in the current directory by default.\n",
    "\n",
    "'train_name' is the folder with ALL of the images. DreamAI requires all of the images to be in one single folder.\n",
    "\n",
    "If the data is in the Keras format, as is the case with this dataset and most Kaggle datasets, that will be handled in the DataProcessor function below."
   ]
  },
  {
   "cell_type": "code",
   "execution_count": 2,
   "metadata": {},
   "outputs": [],
   "source": [
    "data_path = Path('/home/farhan/hamza/github_chest_xray/')\n",
    "train_name = 'train'\n",
    "val_name = 'val'\n",
    "test_name = 'test'\n",
    "dp_name = 'DP_chest_xray.pkl'\n",
    "train_path = data_path/train_name\n",
    "val_path = data_path/val_name\n",
    "test_path = data_path/test_name\n",
    "dp_path = data_path/dp_name"
   ]
  },
  {
   "cell_type": "markdown",
   "metadata": {},
   "source": [
    "## Data Setup"
   ]
  },
  {
   "cell_type": "markdown",
   "metadata": {},
   "source": [
    "Here, we will use DreamAI's data processor to move all the images into one folder and create dataframes for train,val, and test.\n",
    "\n",
    "Everything under the 'Data Setup' heading should be run only once, after that you can comment this part out and start with 'Load and Use the Data'."
   ]
  },
  {
   "cell_type": "code",
   "execution_count": 6,
   "metadata": {
    "scrolled": true
   },
   "outputs": [
    {
     "name": "stdout",
     "output_type": "stream",
     "text": [
      "+------------------------------------+\n",
      "|              Dream AI              |\n",
      "+------------------------------------+\n",
      "\n",
      "\n",
      "Single-label Classification\n",
      "\n"
     ]
    }
   ],
   "source": [
    "DP = data_processing.DataProcessor(data_path,train_csv=None,tr_name=train_name,setup_data=True)\n",
    "\n",
    "data_processing.save_obj(DP,dp_path)"
   ]
  },
  {
   "cell_type": "markdown",
   "metadata": {},
   "source": [
    "## Load and Use the Data"
   ]
  },
  {
   "cell_type": "code",
   "execution_count": 3,
   "metadata": {},
   "outputs": [],
   "source": [
    "# Load our saved DataProcessor object\n",
    "\n",
    "DP = data_processing.load_obj(dp_path)"
   ]
  },
  {
   "cell_type": "code",
   "execution_count": 4,
   "metadata": {},
   "outputs": [],
   "source": [
    "# Dictionary with information about the data\n",
    "\n",
    "data_dict = DP.data_dict"
   ]
  },
  {
   "cell_type": "markdown",
   "metadata": {},
   "source": [
    "Our Label has been changed from 'NORMAL' and 'PNEUMONIA' to 0 and 1."
   ]
  },
  {
   "cell_type": "code",
   "execution_count": 5,
   "metadata": {},
   "outputs": [
    {
     "data": {
      "text/html": [
       "<div>\n",
       "<style scoped>\n",
       "    .dataframe tbody tr th:only-of-type {\n",
       "        vertical-align: middle;\n",
       "    }\n",
       "\n",
       "    .dataframe tbody tr th {\n",
       "        vertical-align: top;\n",
       "    }\n",
       "\n",
       "    .dataframe thead th {\n",
       "        text-align: right;\n",
       "    }\n",
       "</style>\n",
       "<table border=\"1\" class=\"dataframe\">\n",
       "  <thead>\n",
       "    <tr style=\"text-align: right;\">\n",
       "      <th></th>\n",
       "      <th>Img</th>\n",
       "      <th>Label</th>\n",
       "    </tr>\n",
       "  </thead>\n",
       "  <tbody>\n",
       "    <tr>\n",
       "      <th>0</th>\n",
       "      <td>train_IM-0432-0001.jpeg</td>\n",
       "      <td>0</td>\n",
       "    </tr>\n",
       "    <tr>\n",
       "      <th>1</th>\n",
       "      <td>train_IM-0370-0001.jpeg</td>\n",
       "      <td>0</td>\n",
       "    </tr>\n",
       "    <tr>\n",
       "      <th>2</th>\n",
       "      <td>train_person1308_bacteria_3286.jpeg</td>\n",
       "      <td>1</td>\n",
       "    </tr>\n",
       "    <tr>\n",
       "      <th>3</th>\n",
       "      <td>train_person111_virus_210.jpeg</td>\n",
       "      <td>1</td>\n",
       "    </tr>\n",
       "    <tr>\n",
       "      <th>4</th>\n",
       "      <td>train_person437_bacteria_1884.jpeg</td>\n",
       "      <td>1</td>\n",
       "    </tr>\n",
       "  </tbody>\n",
       "</table>\n",
       "</div>"
      ],
      "text/plain": [
       "                                   Img  Label\n",
       "0              train_IM-0432-0001.jpeg      0\n",
       "1              train_IM-0370-0001.jpeg      0\n",
       "2  train_person1308_bacteria_3286.jpeg      1\n",
       "3       train_person111_virus_210.jpeg      1\n",
       "4   train_person437_bacteria_1884.jpeg      1"
      ]
     },
     "execution_count": 5,
     "metadata": {},
     "output_type": "execute_result"
    }
   ],
   "source": [
    "data_dict['data_dfs'][train_name].head()"
   ]
  },
  {
   "cell_type": "code",
   "execution_count": 6,
   "metadata": {},
   "outputs": [
    {
     "data": {
      "text/html": [
       "<div>\n",
       "<style scoped>\n",
       "    .dataframe tbody tr th:only-of-type {\n",
       "        vertical-align: middle;\n",
       "    }\n",
       "\n",
       "    .dataframe tbody tr th {\n",
       "        vertical-align: top;\n",
       "    }\n",
       "\n",
       "    .dataframe thead th {\n",
       "        text-align: right;\n",
       "    }\n",
       "</style>\n",
       "<table border=\"1\" class=\"dataframe\">\n",
       "  <thead>\n",
       "    <tr style=\"text-align: right;\">\n",
       "      <th></th>\n",
       "      <th>Img</th>\n",
       "      <th>Label</th>\n",
       "    </tr>\n",
       "  </thead>\n",
       "  <tbody>\n",
       "    <tr>\n",
       "      <th>0</th>\n",
       "      <td>val_NORMAL2-IM-1431-0001.jpeg</td>\n",
       "      <td>0</td>\n",
       "    </tr>\n",
       "    <tr>\n",
       "      <th>1</th>\n",
       "      <td>val_person1950_bacteria_4881.jpeg</td>\n",
       "      <td>1</td>\n",
       "    </tr>\n",
       "    <tr>\n",
       "      <th>2</th>\n",
       "      <td>val_NORMAL2-IM-1430-0001.jpeg</td>\n",
       "      <td>0</td>\n",
       "    </tr>\n",
       "    <tr>\n",
       "      <th>3</th>\n",
       "      <td>val_NORMAL2-IM-1427-0001.jpeg</td>\n",
       "      <td>0</td>\n",
       "    </tr>\n",
       "    <tr>\n",
       "      <th>4</th>\n",
       "      <td>val_NORMAL2-IM-1438-0001.jpeg</td>\n",
       "      <td>0</td>\n",
       "    </tr>\n",
       "  </tbody>\n",
       "</table>\n",
       "</div>"
      ],
      "text/plain": [
       "                                 Img  Label\n",
       "0      val_NORMAL2-IM-1431-0001.jpeg      0\n",
       "1  val_person1950_bacteria_4881.jpeg      1\n",
       "2      val_NORMAL2-IM-1430-0001.jpeg      0\n",
       "3      val_NORMAL2-IM-1427-0001.jpeg      0\n",
       "4      val_NORMAL2-IM-1438-0001.jpeg      0"
      ]
     },
     "execution_count": 6,
     "metadata": {},
     "output_type": "execute_result"
    }
   ],
   "source": [
    "data_dict['data_dfs'][val_name].head()"
   ]
  },
  {
   "cell_type": "code",
   "execution_count": 7,
   "metadata": {},
   "outputs": [
    {
     "data": {
      "text/plain": [
       "1.0"
      ]
     },
     "execution_count": 7,
     "metadata": {},
     "output_type": "execute_result"
    }
   ],
   "source": [
    "image_size = (256,256)\n",
    "bs = 32\n",
    "\n",
    "# This is just a precaution for when normalizing the data\n",
    "# This is the percentage of the data to use when calculating the mean and standard deviation\n",
    "# so that it doesn't exceed our memory capacity\n",
    "# 2500000 is a safe number that usually works for me with a 64GB RAM. It will differ for your system\n",
    "\n",
    "stats_percentage = min(1.0,2500000/(image_size[0] * len(data_dict['data_dfs'][train_name])))\n",
    "stats_percentage"
   ]
  },
  {
   "cell_type": "code",
   "execution_count": 8,
   "metadata": {},
   "outputs": [],
   "source": [
    "# Create dataset and dataloaders\n",
    "# This may take a while because it will normalize according to the whole dataset\n",
    "\n",
    "sets,loaders,sizes = DP.get_data(data_dict, image_size, bs = bs,\n",
    "                                 balance = True, stats_percentage = stats_percentage)"
   ]
  },
  {
   "cell_type": "code",
   "execution_count": 9,
   "metadata": {},
   "outputs": [
    {
     "data": {
      "text/plain": [
       "{'train': 5216, 'val': 16, 'test': 624}"
      ]
     },
     "execution_count": 9,
     "metadata": {},
     "output_type": "execute_result"
    }
   ],
   "source": [
    "sizes"
   ]
  },
  {
   "cell_type": "code",
   "execution_count": 10,
   "metadata": {},
   "outputs": [
    {
     "data": {
      "text/plain": [
       "54"
      ]
     },
     "execution_count": 10,
     "metadata": {},
     "output_type": "execute_result"
    }
   ],
   "source": [
    "# Number of batches to print progress after\n",
    "\n",
    "print_every = sizes[train_name]//3//bs\n",
    "print_every"
   ]
  },
  {
   "cell_type": "markdown",
   "metadata": {},
   "source": [
    "## Model Setup"
   ]
  },
  {
   "cell_type": "code",
   "execution_count": 11,
   "metadata": {},
   "outputs": [
    {
     "name": "stdout",
     "output_type": "stream",
     "text": [
      "Setting transfer learning model: self.model set to resnet50\n",
      "Model: resnet50, Setting head: inputs: 2048 hidden:[] outputs: 2\n",
      "Transfer Learning: current best accuracy = 0.000\n",
      "Setting optimizer: SGD\n"
     ]
    }
   ],
   "source": [
    "device = torch.device(\"cuda:0\" if torch.cuda.is_available() else \"cpu\")\n",
    "net = cv_model.TransferNetworkImg(model_name='resnet50',model_type='classifier',one_cycle_factor=None,\n",
    "                        optimizer_name='sgd',criterion = nn.CrossEntropyLoss(), device=device,\n",
    "                        best_model_file = 'best_chest_xray_sgd.pth',\n",
    "                        class_names=data_dict['class_names'],num_classes=data_dict['num_classes'],\n",
    "                        dropout_p = 0.5,add_extra=True,\n",
    "                        head = {'num_outputs':data_dict['num_classes'],'model_type':'classifier',\n",
    "                                'layers':[]})"
   ]
  },
  {
   "cell_type": "markdown",
   "metadata": {},
   "source": [
    "Uncomment these lines when you want to retrain or just use the model for predictions."
   ]
  },
  {
   "cell_type": "code",
   "execution_count": 12,
   "metadata": {},
   "outputs": [],
   "source": [
    "# net.load_state_dict(torch.load('best_chest_xray_sgd.pth'))\n",
    "# net.optimizer.load_state_dict(torch.load('best_chest_xray_sgd_optim.pth'))"
   ]
  },
  {
   "cell_type": "code",
   "execution_count": 13,
   "metadata": {
    "scrolled": false
   },
   "outputs": [],
   "source": [
    "net.unfreeze()"
   ]
  },
  {
   "cell_type": "code",
   "execution_count": 14,
   "metadata": {
    "scrolled": false
   },
   "outputs": [
    {
     "name": "stdout",
     "output_type": "stream",
     "text": [
      "\n",
      "Finding the ideal learning rate.\n"
     ]
    },
    {
     "name": "stderr",
     "output_type": "stream",
     "text": [
      "/home/farhan/anaconda3/envs/dreamai/lib/python3.7/site-packages/torchvision/transforms/functional.py:206: UserWarning: To copy construct from a tensor, it is recommended to use sourceTensor.clone().detach() or sourceTensor.clone().detach().requires_grad_(True), rather than torch.tensor(sourceTensor).\n",
      "  mean = torch.tensor(mean, dtype=torch.float32)\n",
      "/home/farhan/anaconda3/envs/dreamai/lib/python3.7/site-packages/torchvision/transforms/functional.py:207: UserWarning: To copy construct from a tensor, it is recommended to use sourceTensor.clone().detach() or sourceTensor.clone().detach().requires_grad_(True), rather than torch.tensor(sourceTensor).\n",
      "  std = torch.tensor(std, dtype=torch.float32)\n",
      "/home/farhan/anaconda3/envs/dreamai/lib/python3.7/site-packages/torchvision/transforms/functional.py:206: UserWarning: To copy construct from a tensor, it is recommended to use sourceTensor.clone().detach() or sourceTensor.clone().detach().requires_grad_(True), rather than torch.tensor(sourceTensor).\n",
      "  mean = torch.tensor(mean, dtype=torch.float32)\n",
      "/home/farhan/anaconda3/envs/dreamai/lib/python3.7/site-packages/torchvision/transforms/functional.py:206: UserWarning: To copy construct from a tensor, it is recommended to use sourceTensor.clone().detach() or sourceTensor.clone().detach().requires_grad_(True), rather than torch.tensor(sourceTensor).\n",
      "  mean = torch.tensor(mean, dtype=torch.float32)\n",
      "/home/farhan/anaconda3/envs/dreamai/lib/python3.7/site-packages/torchvision/transforms/functional.py:207: UserWarning: To copy construct from a tensor, it is recommended to use sourceTensor.clone().detach() or sourceTensor.clone().detach().requires_grad_(True), rather than torch.tensor(sourceTensor).\n",
      "  std = torch.tensor(std, dtype=torch.float32)\n",
      "/home/farhan/anaconda3/envs/dreamai/lib/python3.7/site-packages/torchvision/transforms/functional.py:207: UserWarning: To copy construct from a tensor, it is recommended to use sourceTensor.clone().detach() or sourceTensor.clone().detach().requires_grad_(True), rather than torch.tensor(sourceTensor).\n",
      "  std = torch.tensor(std, dtype=torch.float32)\n",
      "/home/farhan/anaconda3/envs/dreamai/lib/python3.7/site-packages/torchvision/transforms/functional.py:206: UserWarning: To copy construct from a tensor, it is recommended to use sourceTensor.clone().detach() or sourceTensor.clone().detach().requires_grad_(True), rather than torch.tensor(sourceTensor).\n",
      "  mean = torch.tensor(mean, dtype=torch.float32)\n",
      "/home/farhan/anaconda3/envs/dreamai/lib/python3.7/site-packages/torchvision/transforms/functional.py:207: UserWarning: To copy construct from a tensor, it is recommended to use sourceTensor.clone().detach() or sourceTensor.clone().detach().requires_grad_(True), rather than torch.tensor(sourceTensor).\n",
      "  std = torch.tensor(std, dtype=torch.float32)\n"
     ]
    },
    {
     "data": {
      "image/png": "[encoded data removed]",
      "text/plain": [
       "<Figure size 432x288 with 1 Axes>"
      ]
     },
     "metadata": {
      "needs_background": "light"
     },
     "output_type": "display_data"
    },
    {
     "name": "stdout",
     "output_type": "stream",
     "text": [
      "Found it: 0.006812920690579657\n",
      "\n"
     ]
    },
    {
     "data": {
      "text/plain": [
       "0.006812920690579657"
      ]
     },
     "execution_count": 14,
     "metadata": {},
     "output_type": "execute_result"
    }
   ],
   "source": [
    "# Find and set the ideal learning rate\n",
    "\n",
    "lr = net.find_lr(loaders[train_name],plot=True)\n",
    "net.optimizer.param_groups[0]['lr'] = lr\n",
    "net.optimizer.param_groups[0]['lr']"
   ]
  },
  {
   "cell_type": "markdown",
   "metadata": {},
   "source": [
    "## Train"
   ]
  },
  {
   "cell_type": "code",
   "execution_count": 15,
   "metadata": {
    "scrolled": false
   },
   "outputs": [
    {
     "name": "stdout",
     "output_type": "stream",
     "text": [
      "Epoch:  1/10\n",
      "\n"
     ]
    },
    {
     "name": "stderr",
     "output_type": "stream",
     "text": [
      "/home/farhan/anaconda3/envs/dreamai/lib/python3.7/site-packages/torchvision/transforms/functional.py:206: UserWarning: To copy construct from a tensor, it is recommended to use sourceTensor.clone().detach() or sourceTensor.clone().detach().requires_grad_(True), rather than torch.tensor(sourceTensor).\n",
      "  mean = torch.tensor(mean, dtype=torch.float32)\n",
      "/home/farhan/anaconda3/envs/dreamai/lib/python3.7/site-packages/torchvision/transforms/functional.py:206: UserWarning: To copy construct from a tensor, it is recommended to use sourceTensor.clone().detach() or sourceTensor.clone().detach().requires_grad_(True), rather than torch.tensor(sourceTensor).\n",
      "  mean = torch.tensor(mean, dtype=torch.float32)\n",
      "/home/farhan/anaconda3/envs/dreamai/lib/python3.7/site-packages/torchvision/transforms/functional.py:206: UserWarning: To copy construct from a tensor, it is recommended to use sourceTensor.clone().detach() or sourceTensor.clone().detach().requires_grad_(True), rather than torch.tensor(sourceTensor).\n",
      "  mean = torch.tensor(mean, dtype=torch.float32)\n",
      "/home/farhan/anaconda3/envs/dreamai/lib/python3.7/site-packages/torchvision/transforms/functional.py:207: UserWarning: To copy construct from a tensor, it is recommended to use sourceTensor.clone().detach() or sourceTensor.clone().detach().requires_grad_(True), rather than torch.tensor(sourceTensor).\n",
      "  std = torch.tensor(std, dtype=torch.float32)\n",
      "/home/farhan/anaconda3/envs/dreamai/lib/python3.7/site-packages/torchvision/transforms/functional.py:207: UserWarning: To copy construct from a tensor, it is recommended to use sourceTensor.clone().detach() or sourceTensor.clone().detach().requires_grad_(True), rather than torch.tensor(sourceTensor).\n",
      "  std = torch.tensor(std, dtype=torch.float32)\n",
      "/home/farhan/anaconda3/envs/dreamai/lib/python3.7/site-packages/torchvision/transforms/functional.py:207: UserWarning: To copy construct from a tensor, it is recommended to use sourceTensor.clone().detach() or sourceTensor.clone().detach().requires_grad_(True), rather than torch.tensor(sourceTensor).\n",
      "  std = torch.tensor(std, dtype=torch.float32)\n",
      "/home/farhan/anaconda3/envs/dreamai/lib/python3.7/site-packages/torchvision/transforms/functional.py:206: UserWarning: To copy construct from a tensor, it is recommended to use sourceTensor.clone().detach() or sourceTensor.clone().detach().requires_grad_(True), rather than torch.tensor(sourceTensor).\n",
      "  mean = torch.tensor(mean, dtype=torch.float32)\n",
      "/home/farhan/anaconda3/envs/dreamai/lib/python3.7/site-packages/torchvision/transforms/functional.py:207: UserWarning: To copy construct from a tensor, it is recommended to use sourceTensor.clone().detach() or sourceTensor.clone().detach().requires_grad_(True), rather than torch.tensor(sourceTensor).\n",
      "  std = torch.tensor(std, dtype=torch.float32)\n"
     ]
    },
    {
     "name": "stdout",
     "output_type": "stream",
     "text": [
      "+----------------------------------------------------------------------+\n",
      "06:22:27\n",
      "Time elapsed: 42.362 sec\n",
      "Epoch:1/10\n",
      "Batch: 55/163\n",
      "Batch training time: 42.362 sec\n",
      "Batch training loss: 0.181\n",
      "Average training loss: 0.364\n",
      "+----------------------------------------------------------------------+\n",
      "\n",
      "+----------------------------------------------------------------------+\n",
      "06:23:08\n",
      "Time elapsed: 1.383 min\n",
      "Epoch:1/10\n",
      "Batch: 109/163\n",
      "Batch training time: 40.593 sec\n",
      "Batch training loss: 0.067\n",
      "Average training loss: 0.256\n",
      "+----------------------------------------------------------------------+\n",
      "\n",
      "+----------------------------------------------------------------------+\n",
      "06:23:48\n",
      "Time elapsed: 2.059 min\n",
      "Epoch:1/10\n",
      "Batch: 163/163\n",
      "Batch training time: 40.580 sec\n",
      "Batch training loss: 0.087\n",
      "Average training loss: 0.208\n",
      "+----------------------------------------------------------------------+\n",
      "\n"
     ]
    },
    {
     "name": "stderr",
     "output_type": "stream",
     "text": [
      "/home/farhan/anaconda3/envs/dreamai/lib/python3.7/site-packages/torchvision/transforms/functional.py:206: UserWarning: To copy construct from a tensor, it is recommended to use sourceTensor.clone().detach() or sourceTensor.clone().detach().requires_grad_(True), rather than torch.tensor(sourceTensor).\n",
      "  mean = torch.tensor(mean, dtype=torch.float32)\n",
      "/home/farhan/anaconda3/envs/dreamai/lib/python3.7/site-packages/torchvision/transforms/functional.py:207: UserWarning: To copy construct from a tensor, it is recommended to use sourceTensor.clone().detach() or sourceTensor.clone().detach().requires_grad_(True), rather than torch.tensor(sourceTensor).\n",
      "  std = torch.tensor(std, dtype=torch.float32)\n"
     ]
    },
    {
     "name": "stdout",
     "output_type": "stream",
     "text": [
      "\n",
      "////////////////////////////////////\n",
      "06:23:51\n",
      "Epoch 1/10\n",
      "Validation time: 1.228 sec\n",
      "Epoch training loss: 0.207\n",
      "Epoch validation loss: 0.150\n",
      "Validation accuracy: 100.000\n",
      "\\\\\\\\\\\\\\\\\\\\\\\\\\\\\\\\\\\\\\\\\\\\\\\\\\\\\\\\\\\\\\\\\\\\\\\\\n",
      "\n",
      "\n",
      "**********Updating best accuracy**********\n",
      "\n",
      "Previous best: 0.000\n",
      "New best: 100.000\n",
      "\n",
      "******************************************\n",
      "\n",
      "Epoch:  2/10\n",
      "\n"
     ]
    },
    {
     "name": "stderr",
     "output_type": "stream",
     "text": [
      "/home/farhan/anaconda3/envs/dreamai/lib/python3.7/site-packages/torchvision/transforms/functional.py:206: UserWarning: To copy construct from a tensor, it is recommended to use sourceTensor.clone().detach() or sourceTensor.clone().detach().requires_grad_(True), rather than torch.tensor(sourceTensor).\n",
      "  mean = torch.tensor(mean, dtype=torch.float32)\n",
      "/home/farhan/anaconda3/envs/dreamai/lib/python3.7/site-packages/torchvision/transforms/functional.py:206: UserWarning: To copy construct from a tensor, it is recommended to use sourceTensor.clone().detach() or sourceTensor.clone().detach().requires_grad_(True), rather than torch.tensor(sourceTensor).\n",
      "  mean = torch.tensor(mean, dtype=torch.float32)\n",
      "/home/farhan/anaconda3/envs/dreamai/lib/python3.7/site-packages/torchvision/transforms/functional.py:207: UserWarning: To copy construct from a tensor, it is recommended to use sourceTensor.clone().detach() or sourceTensor.clone().detach().requires_grad_(True), rather than torch.tensor(sourceTensor).\n",
      "  std = torch.tensor(std, dtype=torch.float32)\n",
      "/home/farhan/anaconda3/envs/dreamai/lib/python3.7/site-packages/torchvision/transforms/functional.py:207: UserWarning: To copy construct from a tensor, it is recommended to use sourceTensor.clone().detach() or sourceTensor.clone().detach().requires_grad_(True), rather than torch.tensor(sourceTensor).\n",
      "  std = torch.tensor(std, dtype=torch.float32)\n",
      "/home/farhan/anaconda3/envs/dreamai/lib/python3.7/site-packages/torchvision/transforms/functional.py:206: UserWarning: To copy construct from a tensor, it is recommended to use sourceTensor.clone().detach() or sourceTensor.clone().detach().requires_grad_(True), rather than torch.tensor(sourceTensor).\n",
      "  mean = torch.tensor(mean, dtype=torch.float32)\n",
      "/home/farhan/anaconda3/envs/dreamai/lib/python3.7/site-packages/torchvision/transforms/functional.py:207: UserWarning: To copy construct from a tensor, it is recommended to use sourceTensor.clone().detach() or sourceTensor.clone().detach().requires_grad_(True), rather than torch.tensor(sourceTensor).\n",
      "  std = torch.tensor(std, dtype=torch.float32)\n",
      "/home/farhan/anaconda3/envs/dreamai/lib/python3.7/site-packages/torchvision/transforms/functional.py:206: UserWarning: To copy construct from a tensor, it is recommended to use sourceTensor.clone().detach() or sourceTensor.clone().detach().requires_grad_(True), rather than torch.tensor(sourceTensor).\n",
      "  mean = torch.tensor(mean, dtype=torch.float32)\n",
      "/home/farhan/anaconda3/envs/dreamai/lib/python3.7/site-packages/torchvision/transforms/functional.py:207: UserWarning: To copy construct from a tensor, it is recommended to use sourceTensor.clone().detach() or sourceTensor.clone().detach().requires_grad_(True), rather than torch.tensor(sourceTensor).\n",
      "  std = torch.tensor(std, dtype=torch.float32)\n"
     ]
    },
    {
     "name": "stdout",
     "output_type": "stream",
     "text": [
      "+----------------------------------------------------------------------+\n",
      "06:24:36\n",
      "Time elapsed: 42.120 sec\n",
      "Epoch:2/10\n",
      "Batch: 55/163\n",
      "Batch training time: 42.120 sec\n",
      "Batch training loss: 0.020\n",
      "Average training loss: 0.073\n",
      "+----------------------------------------------------------------------+\n",
      "\n",
      "+----------------------------------------------------------------------+\n",
      "06:25:16\n",
      "Time elapsed: 1.379 min\n",
      "Epoch:2/10\n",
      "Batch: 109/163\n",
      "Batch training time: 40.603 sec\n",
      "Batch training loss: 0.032\n",
      "Average training loss: 0.076\n",
      "+----------------------------------------------------------------------+\n",
      "\n",
      "+----------------------------------------------------------------------+\n",
      "06:25:57\n",
      "Time elapsed: 2.055 min\n",
      "Epoch:2/10\n",
      "Batch: 163/163\n",
      "Batch training time: 40.603 sec\n",
      "Batch training loss: 0.026\n",
      "Average training loss: 0.072\n",
      "+----------------------------------------------------------------------+\n",
      "\n"
     ]
    },
    {
     "name": "stderr",
     "output_type": "stream",
     "text": [
      "/home/farhan/anaconda3/envs/dreamai/lib/python3.7/site-packages/torchvision/transforms/functional.py:206: UserWarning: To copy construct from a tensor, it is recommended to use sourceTensor.clone().detach() or sourceTensor.clone().detach().requires_grad_(True), rather than torch.tensor(sourceTensor).\n",
      "  mean = torch.tensor(mean, dtype=torch.float32)\n",
      "/home/farhan/anaconda3/envs/dreamai/lib/python3.7/site-packages/torchvision/transforms/functional.py:207: UserWarning: To copy construct from a tensor, it is recommended to use sourceTensor.clone().detach() or sourceTensor.clone().detach().requires_grad_(True), rather than torch.tensor(sourceTensor).\n",
      "  std = torch.tensor(std, dtype=torch.float32)\n"
     ]
    },
    {
     "name": "stdout",
     "output_type": "stream",
     "text": [
      "\n",
      "////////////////////////////////////\n",
      "06:25:59\n",
      "Epoch 2/10\n",
      "Validation time: 1.221 sec\n",
      "Epoch training loss: 0.072\n",
      "Epoch validation loss: 0.171\n",
      "Validation accuracy: 93.750\n",
      "\\\\\\\\\\\\\\\\\\\\\\\\\\\\\\\\\\\\\\\\\\\\\\\\\\\\\\\\\\\\\\\\\\\\\\\\\n",
      "\n",
      "Epoch:  3/10\n",
      "\n"
     ]
    },
    {
     "name": "stderr",
     "output_type": "stream",
     "text": [
      "/home/farhan/anaconda3/envs/dreamai/lib/python3.7/site-packages/torchvision/transforms/functional.py:206: UserWarning: To copy construct from a tensor, it is recommended to use sourceTensor.clone().detach() or sourceTensor.clone().detach().requires_grad_(True), rather than torch.tensor(sourceTensor).\n",
      "  mean = torch.tensor(mean, dtype=torch.float32)\n",
      "/home/farhan/anaconda3/envs/dreamai/lib/python3.7/site-packages/torchvision/transforms/functional.py:206: UserWarning: To copy construct from a tensor, it is recommended to use sourceTensor.clone().detach() or sourceTensor.clone().detach().requires_grad_(True), rather than torch.tensor(sourceTensor).\n",
      "  mean = torch.tensor(mean, dtype=torch.float32)\n",
      "/home/farhan/anaconda3/envs/dreamai/lib/python3.7/site-packages/torchvision/transforms/functional.py:207: UserWarning: To copy construct from a tensor, it is recommended to use sourceTensor.clone().detach() or sourceTensor.clone().detach().requires_grad_(True), rather than torch.tensor(sourceTensor).\n",
      "  std = torch.tensor(std, dtype=torch.float32)\n",
      "/home/farhan/anaconda3/envs/dreamai/lib/python3.7/site-packages/torchvision/transforms/functional.py:207: UserWarning: To copy construct from a tensor, it is recommended to use sourceTensor.clone().detach() or sourceTensor.clone().detach().requires_grad_(True), rather than torch.tensor(sourceTensor).\n",
      "  std = torch.tensor(std, dtype=torch.float32)\n",
      "/home/farhan/anaconda3/envs/dreamai/lib/python3.7/site-packages/torchvision/transforms/functional.py:206: UserWarning: To copy construct from a tensor, it is recommended to use sourceTensor.clone().detach() or sourceTensor.clone().detach().requires_grad_(True), rather than torch.tensor(sourceTensor).\n",
      "  mean = torch.tensor(mean, dtype=torch.float32)\n",
      "/home/farhan/anaconda3/envs/dreamai/lib/python3.7/site-packages/torchvision/transforms/functional.py:207: UserWarning: To copy construct from a tensor, it is recommended to use sourceTensor.clone().detach() or sourceTensor.clone().detach().requires_grad_(True), rather than torch.tensor(sourceTensor).\n",
      "  std = torch.tensor(std, dtype=torch.float32)\n",
      "/home/farhan/anaconda3/envs/dreamai/lib/python3.7/site-packages/torchvision/transforms/functional.py:206: UserWarning: To copy construct from a tensor, it is recommended to use sourceTensor.clone().detach() or sourceTensor.clone().detach().requires_grad_(True), rather than torch.tensor(sourceTensor).\n",
      "  mean = torch.tensor(mean, dtype=torch.float32)\n",
      "/home/farhan/anaconda3/envs/dreamai/lib/python3.7/site-packages/torchvision/transforms/functional.py:207: UserWarning: To copy construct from a tensor, it is recommended to use sourceTensor.clone().detach() or sourceTensor.clone().detach().requires_grad_(True), rather than torch.tensor(sourceTensor).\n",
      "  std = torch.tensor(std, dtype=torch.float32)\n"
     ]
    },
    {
     "name": "stdout",
     "output_type": "stream",
     "text": [
      "+----------------------------------------------------------------------+\n",
      "06:26:41\n",
      "Time elapsed: 42.230 sec\n",
      "Epoch:3/10\n",
      "Batch: 55/163\n",
      "Batch training time: 42.230 sec\n",
      "Batch training loss: 0.015\n",
      "Average training loss: 0.053\n",
      "+----------------------------------------------------------------------+\n",
      "\n",
      "+----------------------------------------------------------------------+\n",
      "06:27:22\n",
      "Time elapsed: 1.382 min\n",
      "Epoch:3/10\n",
      "Batch: 109/163\n",
      "Batch training time: 40.685 sec\n",
      "Batch training loss: 0.011\n",
      "Average training loss: 0.046\n",
      "+----------------------------------------------------------------------+\n",
      "\n",
      "+----------------------------------------------------------------------+\n",
      "06:28:03\n",
      "Time elapsed: 2.060 min\n",
      "Epoch:3/10\n",
      "Batch: 163/163\n",
      "Batch training time: 40.662 sec\n",
      "Batch training loss: 0.083\n",
      "Average training loss: 0.045\n",
      "+----------------------------------------------------------------------+\n",
      "\n"
     ]
    },
    {
     "name": "stderr",
     "output_type": "stream",
     "text": [
      "/home/farhan/anaconda3/envs/dreamai/lib/python3.7/site-packages/torchvision/transforms/functional.py:206: UserWarning: To copy construct from a tensor, it is recommended to use sourceTensor.clone().detach() or sourceTensor.clone().detach().requires_grad_(True), rather than torch.tensor(sourceTensor).\n",
      "  mean = torch.tensor(mean, dtype=torch.float32)\n",
      "/home/farhan/anaconda3/envs/dreamai/lib/python3.7/site-packages/torchvision/transforms/functional.py:207: UserWarning: To copy construct from a tensor, it is recommended to use sourceTensor.clone().detach() or sourceTensor.clone().detach().requires_grad_(True), rather than torch.tensor(sourceTensor).\n",
      "  std = torch.tensor(std, dtype=torch.float32)\n"
     ]
    },
    {
     "name": "stdout",
     "output_type": "stream",
     "text": [
      "\n",
      "////////////////////////////////////\n",
      "06:28:05\n",
      "Epoch 3/10\n",
      "Validation time: 1.222 sec\n",
      "Epoch training loss: 0.044\n",
      "Epoch validation loss: 0.109\n",
      "Validation accuracy: 100.000\n",
      "\\\\\\\\\\\\\\\\\\\\\\\\\\\\\\\\\\\\\\\\\\\\\\\\\\\\\\\\\\\\\\\\\\\\\\\\\n",
      "\n",
      "\n",
      "**********Updating best accuracy**********\n",
      "\n",
      "Previous best: 100.000\n",
      "New best: 100.000\n",
      "\n",
      "******************************************\n",
      "\n",
      "Epoch:  4/10\n",
      "\n"
     ]
    },
    {
     "name": "stderr",
     "output_type": "stream",
     "text": [
      "/home/farhan/anaconda3/envs/dreamai/lib/python3.7/site-packages/torchvision/transforms/functional.py:206: UserWarning: To copy construct from a tensor, it is recommended to use sourceTensor.clone().detach() or sourceTensor.clone().detach().requires_grad_(True), rather than torch.tensor(sourceTensor).\n",
      "  mean = torch.tensor(mean, dtype=torch.float32)\n",
      "/home/farhan/anaconda3/envs/dreamai/lib/python3.7/site-packages/torchvision/transforms/functional.py:207: UserWarning: To copy construct from a tensor, it is recommended to use sourceTensor.clone().detach() or sourceTensor.clone().detach().requires_grad_(True), rather than torch.tensor(sourceTensor).\n",
      "  std = torch.tensor(std, dtype=torch.float32)\n",
      "/home/farhan/anaconda3/envs/dreamai/lib/python3.7/site-packages/torchvision/transforms/functional.py:206: UserWarning: To copy construct from a tensor, it is recommended to use sourceTensor.clone().detach() or sourceTensor.clone().detach().requires_grad_(True), rather than torch.tensor(sourceTensor).\n",
      "  mean = torch.tensor(mean, dtype=torch.float32)\n",
      "/home/farhan/anaconda3/envs/dreamai/lib/python3.7/site-packages/torchvision/transforms/functional.py:207: UserWarning: To copy construct from a tensor, it is recommended to use sourceTensor.clone().detach() or sourceTensor.clone().detach().requires_grad_(True), rather than torch.tensor(sourceTensor).\n",
      "  std = torch.tensor(std, dtype=torch.float32)\n",
      "/home/farhan/anaconda3/envs/dreamai/lib/python3.7/site-packages/torchvision/transforms/functional.py:206: UserWarning: To copy construct from a tensor, it is recommended to use sourceTensor.clone().detach() or sourceTensor.clone().detach().requires_grad_(True), rather than torch.tensor(sourceTensor).\n",
      "  mean = torch.tensor(mean, dtype=torch.float32)\n",
      "/home/farhan/anaconda3/envs/dreamai/lib/python3.7/site-packages/torchvision/transforms/functional.py:207: UserWarning: To copy construct from a tensor, it is recommended to use sourceTensor.clone().detach() or sourceTensor.clone().detach().requires_grad_(True), rather than torch.tensor(sourceTensor).\n",
      "  std = torch.tensor(std, dtype=torch.float32)\n",
      "/home/farhan/anaconda3/envs/dreamai/lib/python3.7/site-packages/torchvision/transforms/functional.py:206: UserWarning: To copy construct from a tensor, it is recommended to use sourceTensor.clone().detach() or sourceTensor.clone().detach().requires_grad_(True), rather than torch.tensor(sourceTensor).\n",
      "  mean = torch.tensor(mean, dtype=torch.float32)\n",
      "/home/farhan/anaconda3/envs/dreamai/lib/python3.7/site-packages/torchvision/transforms/functional.py:207: UserWarning: To copy construct from a tensor, it is recommended to use sourceTensor.clone().detach() or sourceTensor.clone().detach().requires_grad_(True), rather than torch.tensor(sourceTensor).\n",
      "  std = torch.tensor(std, dtype=torch.float32)\n"
     ]
    },
    {
     "name": "stdout",
     "output_type": "stream",
     "text": [
      "+----------------------------------------------------------------------+\n",
      "06:28:50\n",
      "Time elapsed: 42.297 sec\n",
      "Epoch:4/10\n",
      "Batch: 55/163\n",
      "Batch training time: 42.297 sec\n",
      "Batch training loss: 0.016\n",
      "Average training loss: 0.032\n",
      "+----------------------------------------------------------------------+\n",
      "\n",
      "+----------------------------------------------------------------------+\n",
      "06:29:31\n",
      "Time elapsed: 1.382 min\n",
      "Epoch:4/10\n",
      "Batch: 109/163\n",
      "Batch training time: 40.642 sec\n",
      "Batch training loss: 0.008\n",
      "Average training loss: 0.031\n",
      "+----------------------------------------------------------------------+\n",
      "\n",
      "+----------------------------------------------------------------------+\n",
      "06:30:11\n",
      "Time elapsed: 2.060 min\n",
      "Epoch:4/10\n",
      "Batch: 163/163\n",
      "Batch training time: 40.638 sec\n",
      "Batch training loss: 0.007\n",
      "Average training loss: 0.033\n",
      "+----------------------------------------------------------------------+\n",
      "\n"
     ]
    },
    {
     "name": "stderr",
     "output_type": "stream",
     "text": [
      "/home/farhan/anaconda3/envs/dreamai/lib/python3.7/site-packages/torchvision/transforms/functional.py:206: UserWarning: To copy construct from a tensor, it is recommended to use sourceTensor.clone().detach() or sourceTensor.clone().detach().requires_grad_(True), rather than torch.tensor(sourceTensor).\n",
      "  mean = torch.tensor(mean, dtype=torch.float32)\n",
      "/home/farhan/anaconda3/envs/dreamai/lib/python3.7/site-packages/torchvision/transforms/functional.py:207: UserWarning: To copy construct from a tensor, it is recommended to use sourceTensor.clone().detach() or sourceTensor.clone().detach().requires_grad_(True), rather than torch.tensor(sourceTensor).\n",
      "  std = torch.tensor(std, dtype=torch.float32)\n"
     ]
    },
    {
     "name": "stdout",
     "output_type": "stream",
     "text": [
      "\n",
      "////////////////////////////////////\n",
      "06:30:13\n",
      "Epoch 4/10\n",
      "Validation time: 1.236 sec\n",
      "Epoch training loss: 0.033\n",
      "Epoch validation loss: 0.035\n",
      "Validation accuracy: 100.000\n",
      "\\\\\\\\\\\\\\\\\\\\\\\\\\\\\\\\\\\\\\\\\\\\\\\\\\\\\\\\\\\\\\\\\\\\\\\\\n",
      "\n",
      "\n",
      "**********Updating best accuracy**********\n",
      "\n",
      "Previous best: 100.000\n",
      "New best: 100.000\n",
      "\n",
      "******************************************\n",
      "\n",
      "Epoch:  5/10\n",
      "\n"
     ]
    },
    {
     "name": "stderr",
     "output_type": "stream",
     "text": [
      "/home/farhan/anaconda3/envs/dreamai/lib/python3.7/site-packages/torchvision/transforms/functional.py:206: UserWarning: To copy construct from a tensor, it is recommended to use sourceTensor.clone().detach() or sourceTensor.clone().detach().requires_grad_(True), rather than torch.tensor(sourceTensor).\n",
      "  mean = torch.tensor(mean, dtype=torch.float32)\n",
      "/home/farhan/anaconda3/envs/dreamai/lib/python3.7/site-packages/torchvision/transforms/functional.py:207: UserWarning: To copy construct from a tensor, it is recommended to use sourceTensor.clone().detach() or sourceTensor.clone().detach().requires_grad_(True), rather than torch.tensor(sourceTensor).\n",
      "  std = torch.tensor(std, dtype=torch.float32)\n",
      "/home/farhan/anaconda3/envs/dreamai/lib/python3.7/site-packages/torchvision/transforms/functional.py:206: UserWarning: To copy construct from a tensor, it is recommended to use sourceTensor.clone().detach() or sourceTensor.clone().detach().requires_grad_(True), rather than torch.tensor(sourceTensor).\n",
      "  mean = torch.tensor(mean, dtype=torch.float32)\n",
      "/home/farhan/anaconda3/envs/dreamai/lib/python3.7/site-packages/torchvision/transforms/functional.py:207: UserWarning: To copy construct from a tensor, it is recommended to use sourceTensor.clone().detach() or sourceTensor.clone().detach().requires_grad_(True), rather than torch.tensor(sourceTensor).\n",
      "  std = torch.tensor(std, dtype=torch.float32)\n",
      "/home/farhan/anaconda3/envs/dreamai/lib/python3.7/site-packages/torchvision/transforms/functional.py:206: UserWarning: To copy construct from a tensor, it is recommended to use sourceTensor.clone().detach() or sourceTensor.clone().detach().requires_grad_(True), rather than torch.tensor(sourceTensor).\n",
      "  mean = torch.tensor(mean, dtype=torch.float32)\n",
      "/home/farhan/anaconda3/envs/dreamai/lib/python3.7/site-packages/torchvision/transforms/functional.py:207: UserWarning: To copy construct from a tensor, it is recommended to use sourceTensor.clone().detach() or sourceTensor.clone().detach().requires_grad_(True), rather than torch.tensor(sourceTensor).\n",
      "  std = torch.tensor(std, dtype=torch.float32)\n",
      "/home/farhan/anaconda3/envs/dreamai/lib/python3.7/site-packages/torchvision/transforms/functional.py:206: UserWarning: To copy construct from a tensor, it is recommended to use sourceTensor.clone().detach() or sourceTensor.clone().detach().requires_grad_(True), rather than torch.tensor(sourceTensor).\n",
      "  mean = torch.tensor(mean, dtype=torch.float32)\n",
      "/home/farhan/anaconda3/envs/dreamai/lib/python3.7/site-packages/torchvision/transforms/functional.py:207: UserWarning: To copy construct from a tensor, it is recommended to use sourceTensor.clone().detach() or sourceTensor.clone().detach().requires_grad_(True), rather than torch.tensor(sourceTensor).\n",
      "  std = torch.tensor(std, dtype=torch.float32)\n"
     ]
    },
    {
     "name": "stdout",
     "output_type": "stream",
     "text": [
      "+----------------------------------------------------------------------+\n",
      "06:30:59\n",
      "Time elapsed: 42.204 sec\n",
      "Epoch:5/10\n",
      "Batch: 55/163\n",
      "Batch training time: 42.204 sec\n",
      "Batch training loss: 0.005\n",
      "Average training loss: 0.024\n",
      "+----------------------------------------------------------------------+\n",
      "\n",
      "+----------------------------------------------------------------------+\n",
      "06:31:39\n",
      "Time elapsed: 1.381 min\n",
      "Epoch:5/10\n",
      "Batch: 109/163\n",
      "Batch training time: 40.648 sec\n",
      "Batch training loss: 0.002\n",
      "Average training loss: 0.025\n",
      "+----------------------------------------------------------------------+\n",
      "\n",
      "+----------------------------------------------------------------------+\n",
      "06:32:20\n",
      "Time elapsed: 2.059 min\n",
      "Epoch:5/10\n",
      "Batch: 163/163\n",
      "Batch training time: 40.662 sec\n",
      "Batch training loss: 0.036\n",
      "Average training loss: 0.023\n",
      "+----------------------------------------------------------------------+\n",
      "\n"
     ]
    },
    {
     "name": "stderr",
     "output_type": "stream",
     "text": [
      "/home/farhan/anaconda3/envs/dreamai/lib/python3.7/site-packages/torchvision/transforms/functional.py:206: UserWarning: To copy construct from a tensor, it is recommended to use sourceTensor.clone().detach() or sourceTensor.clone().detach().requires_grad_(True), rather than torch.tensor(sourceTensor).\n",
      "  mean = torch.tensor(mean, dtype=torch.float32)\n",
      "/home/farhan/anaconda3/envs/dreamai/lib/python3.7/site-packages/torchvision/transforms/functional.py:207: UserWarning: To copy construct from a tensor, it is recommended to use sourceTensor.clone().detach() or sourceTensor.clone().detach().requires_grad_(True), rather than torch.tensor(sourceTensor).\n",
      "  std = torch.tensor(std, dtype=torch.float32)\n"
     ]
    },
    {
     "name": "stdout",
     "output_type": "stream",
     "text": [
      "\n",
      "////////////////////////////////////\n",
      "06:32:22\n",
      "Epoch 5/10\n",
      "Validation time: 1.227 sec\n",
      "Epoch training loss: 0.023\n",
      "Epoch validation loss: 0.076\n",
      "Validation accuracy: 100.000\n",
      "\\\\\\\\\\\\\\\\\\\\\\\\\\\\\\\\\\\\\\\\\\\\\\\\\\\\\\\\\\\\\\\\\\\\\\\\\n",
      "\n",
      "\n",
      "**********Updating best accuracy**********\n",
      "\n",
      "Previous best: 100.000\n",
      "New best: 100.000\n",
      "\n",
      "******************************************\n",
      "\n",
      "Epoch:  6/10\n",
      "\n"
     ]
    },
    {
     "name": "stderr",
     "output_type": "stream",
     "text": [
      "/home/farhan/anaconda3/envs/dreamai/lib/python3.7/site-packages/torchvision/transforms/functional.py:206: UserWarning: To copy construct from a tensor, it is recommended to use sourceTensor.clone().detach() or sourceTensor.clone().detach().requires_grad_(True), rather than torch.tensor(sourceTensor).\n",
      "  mean = torch.tensor(mean, dtype=torch.float32)\n",
      "/home/farhan/anaconda3/envs/dreamai/lib/python3.7/site-packages/torchvision/transforms/functional.py:206: UserWarning: To copy construct from a tensor, it is recommended to use sourceTensor.clone().detach() or sourceTensor.clone().detach().requires_grad_(True), rather than torch.tensor(sourceTensor).\n",
      "  mean = torch.tensor(mean, dtype=torch.float32)\n",
      "/home/farhan/anaconda3/envs/dreamai/lib/python3.7/site-packages/torchvision/transforms/functional.py:207: UserWarning: To copy construct from a tensor, it is recommended to use sourceTensor.clone().detach() or sourceTensor.clone().detach().requires_grad_(True), rather than torch.tensor(sourceTensor).\n",
      "  std = torch.tensor(std, dtype=torch.float32)\n",
      "/home/farhan/anaconda3/envs/dreamai/lib/python3.7/site-packages/torchvision/transforms/functional.py:207: UserWarning: To copy construct from a tensor, it is recommended to use sourceTensor.clone().detach() or sourceTensor.clone().detach().requires_grad_(True), rather than torch.tensor(sourceTensor).\n",
      "  std = torch.tensor(std, dtype=torch.float32)\n",
      "/home/farhan/anaconda3/envs/dreamai/lib/python3.7/site-packages/torchvision/transforms/functional.py:206: UserWarning: To copy construct from a tensor, it is recommended to use sourceTensor.clone().detach() or sourceTensor.clone().detach().requires_grad_(True), rather than torch.tensor(sourceTensor).\n",
      "  mean = torch.tensor(mean, dtype=torch.float32)\n",
      "/home/farhan/anaconda3/envs/dreamai/lib/python3.7/site-packages/torchvision/transforms/functional.py:206: UserWarning: To copy construct from a tensor, it is recommended to use sourceTensor.clone().detach() or sourceTensor.clone().detach().requires_grad_(True), rather than torch.tensor(sourceTensor).\n",
      "  mean = torch.tensor(mean, dtype=torch.float32)\n",
      "/home/farhan/anaconda3/envs/dreamai/lib/python3.7/site-packages/torchvision/transforms/functional.py:207: UserWarning: To copy construct from a tensor, it is recommended to use sourceTensor.clone().detach() or sourceTensor.clone().detach().requires_grad_(True), rather than torch.tensor(sourceTensor).\n",
      "  std = torch.tensor(std, dtype=torch.float32)\n",
      "/home/farhan/anaconda3/envs/dreamai/lib/python3.7/site-packages/torchvision/transforms/functional.py:207: UserWarning: To copy construct from a tensor, it is recommended to use sourceTensor.clone().detach() or sourceTensor.clone().detach().requires_grad_(True), rather than torch.tensor(sourceTensor).\n",
      "  std = torch.tensor(std, dtype=torch.float32)\n"
     ]
    },
    {
     "name": "stdout",
     "output_type": "stream",
     "text": [
      "+----------------------------------------------------------------------+\n",
      "06:33:07\n",
      "Time elapsed: 42.388 sec\n",
      "Epoch:6/10\n",
      "Batch: 55/163\n",
      "Batch training time: 42.388 sec\n",
      "Batch training loss: 0.011\n",
      "Average training loss: 0.018\n",
      "+----------------------------------------------------------------------+\n",
      "\n",
      "+----------------------------------------------------------------------+\n",
      "06:33:48\n",
      "Time elapsed: 1.384 min\n",
      "Epoch:6/10\n",
      "Batch: 109/163\n",
      "Batch training time: 40.634 sec\n",
      "Batch training loss: 0.079\n",
      "Average training loss: 0.016\n",
      "+----------------------------------------------------------------------+\n",
      "\n",
      "+----------------------------------------------------------------------+\n",
      "06:34:29\n",
      "Time elapsed: 2.061 min\n",
      "Epoch:6/10\n",
      "Batch: 163/163\n",
      "Batch training time: 40.628 sec\n",
      "Batch training loss: 0.004\n",
      "Average training loss: 0.016\n",
      "+----------------------------------------------------------------------+\n",
      "\n"
     ]
    },
    {
     "name": "stderr",
     "output_type": "stream",
     "text": [
      "/home/farhan/anaconda3/envs/dreamai/lib/python3.7/site-packages/torchvision/transforms/functional.py:206: UserWarning: To copy construct from a tensor, it is recommended to use sourceTensor.clone().detach() or sourceTensor.clone().detach().requires_grad_(True), rather than torch.tensor(sourceTensor).\n",
      "  mean = torch.tensor(mean, dtype=torch.float32)\n",
      "/home/farhan/anaconda3/envs/dreamai/lib/python3.7/site-packages/torchvision/transforms/functional.py:207: UserWarning: To copy construct from a tensor, it is recommended to use sourceTensor.clone().detach() or sourceTensor.clone().detach().requires_grad_(True), rather than torch.tensor(sourceTensor).\n",
      "  std = torch.tensor(std, dtype=torch.float32)\n"
     ]
    },
    {
     "name": "stdout",
     "output_type": "stream",
     "text": [
      "\n",
      "////////////////////////////////////\n",
      "06:34:31\n",
      "Epoch 6/10\n",
      "Validation time: 1.226 sec\n",
      "Epoch training loss: 0.017\n",
      "Epoch validation loss: 0.049\n",
      "Validation accuracy: 100.000\n",
      "\\\\\\\\\\\\\\\\\\\\\\\\\\\\\\\\\\\\\\\\\\\\\\\\\\\\\\\\\\\\\\\\\\\\\\\\\n",
      "\n",
      "\n",
      "**********Updating best accuracy**********\n",
      "\n",
      "Previous best: 100.000\n",
      "New best: 100.000\n",
      "\n",
      "******************************************\n",
      "\n",
      "Epoch:  7/10\n",
      "\n"
     ]
    },
    {
     "name": "stderr",
     "output_type": "stream",
     "text": [
      "/home/farhan/anaconda3/envs/dreamai/lib/python3.7/site-packages/torchvision/transforms/functional.py:206: UserWarning: To copy construct from a tensor, it is recommended to use sourceTensor.clone().detach() or sourceTensor.clone().detach().requires_grad_(True), rather than torch.tensor(sourceTensor).\n",
      "  mean = torch.tensor(mean, dtype=torch.float32)\n",
      "/home/farhan/anaconda3/envs/dreamai/lib/python3.7/site-packages/torchvision/transforms/functional.py:207: UserWarning: To copy construct from a tensor, it is recommended to use sourceTensor.clone().detach() or sourceTensor.clone().detach().requires_grad_(True), rather than torch.tensor(sourceTensor).\n",
      "  std = torch.tensor(std, dtype=torch.float32)\n",
      "/home/farhan/anaconda3/envs/dreamai/lib/python3.7/site-packages/torchvision/transforms/functional.py:206: UserWarning: To copy construct from a tensor, it is recommended to use sourceTensor.clone().detach() or sourceTensor.clone().detach().requires_grad_(True), rather than torch.tensor(sourceTensor).\n",
      "  mean = torch.tensor(mean, dtype=torch.float32)\n",
      "/home/farhan/anaconda3/envs/dreamai/lib/python3.7/site-packages/torchvision/transforms/functional.py:206: UserWarning: To copy construct from a tensor, it is recommended to use sourceTensor.clone().detach() or sourceTensor.clone().detach().requires_grad_(True), rather than torch.tensor(sourceTensor).\n",
      "  mean = torch.tensor(mean, dtype=torch.float32)\n",
      "/home/farhan/anaconda3/envs/dreamai/lib/python3.7/site-packages/torchvision/transforms/functional.py:207: UserWarning: To copy construct from a tensor, it is recommended to use sourceTensor.clone().detach() or sourceTensor.clone().detach().requires_grad_(True), rather than torch.tensor(sourceTensor).\n",
      "  std = torch.tensor(std, dtype=torch.float32)\n",
      "/home/farhan/anaconda3/envs/dreamai/lib/python3.7/site-packages/torchvision/transforms/functional.py:207: UserWarning: To copy construct from a tensor, it is recommended to use sourceTensor.clone().detach() or sourceTensor.clone().detach().requires_grad_(True), rather than torch.tensor(sourceTensor).\n",
      "  std = torch.tensor(std, dtype=torch.float32)\n",
      "/home/farhan/anaconda3/envs/dreamai/lib/python3.7/site-packages/torchvision/transforms/functional.py:206: UserWarning: To copy construct from a tensor, it is recommended to use sourceTensor.clone().detach() or sourceTensor.clone().detach().requires_grad_(True), rather than torch.tensor(sourceTensor).\n",
      "  mean = torch.tensor(mean, dtype=torch.float32)\n",
      "/home/farhan/anaconda3/envs/dreamai/lib/python3.7/site-packages/torchvision/transforms/functional.py:207: UserWarning: To copy construct from a tensor, it is recommended to use sourceTensor.clone().detach() or sourceTensor.clone().detach().requires_grad_(True), rather than torch.tensor(sourceTensor).\n",
      "  std = torch.tensor(std, dtype=torch.float32)\n"
     ]
    },
    {
     "name": "stdout",
     "output_type": "stream",
     "text": [
      "+----------------------------------------------------------------------+\n",
      "06:35:16\n",
      "Time elapsed: 42.094 sec\n",
      "Epoch:7/10\n",
      "Batch: 55/163\n",
      "Batch training time: 42.094 sec\n",
      "Batch training loss: 0.005\n",
      "Average training loss: 0.016\n",
      "+----------------------------------------------------------------------+\n",
      "\n",
      "+----------------------------------------------------------------------+\n",
      "06:35:56\n",
      "Time elapsed: 1.379 min\n",
      "Epoch:7/10\n",
      "Batch: 109/163\n",
      "Batch training time: 40.638 sec\n",
      "Batch training loss: 0.001\n",
      "Average training loss: 0.012\n",
      "+----------------------------------------------------------------------+\n",
      "\n",
      "+----------------------------------------------------------------------+\n",
      "06:36:37\n",
      "Time elapsed: 2.056 min\n",
      "Epoch:7/10\n",
      "Batch: 163/163\n",
      "Batch training time: 40.637 sec\n",
      "Batch training loss: 0.004\n",
      "Average training loss: 0.013\n",
      "+----------------------------------------------------------------------+\n",
      "\n"
     ]
    },
    {
     "name": "stderr",
     "output_type": "stream",
     "text": [
      "/home/farhan/anaconda3/envs/dreamai/lib/python3.7/site-packages/torchvision/transforms/functional.py:206: UserWarning: To copy construct from a tensor, it is recommended to use sourceTensor.clone().detach() or sourceTensor.clone().detach().requires_grad_(True), rather than torch.tensor(sourceTensor).\n",
      "  mean = torch.tensor(mean, dtype=torch.float32)\n",
      "/home/farhan/anaconda3/envs/dreamai/lib/python3.7/site-packages/torchvision/transforms/functional.py:207: UserWarning: To copy construct from a tensor, it is recommended to use sourceTensor.clone().detach() or sourceTensor.clone().detach().requires_grad_(True), rather than torch.tensor(sourceTensor).\n",
      "  std = torch.tensor(std, dtype=torch.float32)\n"
     ]
    },
    {
     "name": "stdout",
     "output_type": "stream",
     "text": [
      "\n",
      "////////////////////////////////////\n",
      "06:36:39\n",
      "Epoch 7/10\n",
      "Validation time: 1.216 sec\n",
      "Epoch training loss: 0.013\n",
      "Epoch validation loss: 0.015\n",
      "Validation accuracy: 100.000\n",
      "\\\\\\\\\\\\\\\\\\\\\\\\\\\\\\\\\\\\\\\\\\\\\\\\\\\\\\\\\\\\\\\\\\\\\\\\\n",
      "\n",
      "\n",
      "**********Updating best accuracy**********\n",
      "\n",
      "Previous best: 100.000\n",
      "New best: 100.000\n",
      "\n",
      "******************************************\n",
      "\n",
      "Epoch:  8/10\n",
      "\n"
     ]
    },
    {
     "name": "stderr",
     "output_type": "stream",
     "text": [
      "/home/farhan/anaconda3/envs/dreamai/lib/python3.7/site-packages/torchvision/transforms/functional.py:206: UserWarning: To copy construct from a tensor, it is recommended to use sourceTensor.clone().detach() or sourceTensor.clone().detach().requires_grad_(True), rather than torch.tensor(sourceTensor).\n",
      "  mean = torch.tensor(mean, dtype=torch.float32)\n",
      "/home/farhan/anaconda3/envs/dreamai/lib/python3.7/site-packages/torchvision/transforms/functional.py:207: UserWarning: To copy construct from a tensor, it is recommended to use sourceTensor.clone().detach() or sourceTensor.clone().detach().requires_grad_(True), rather than torch.tensor(sourceTensor).\n",
      "  std = torch.tensor(std, dtype=torch.float32)\n",
      "/home/farhan/anaconda3/envs/dreamai/lib/python3.7/site-packages/torchvision/transforms/functional.py:206: UserWarning: To copy construct from a tensor, it is recommended to use sourceTensor.clone().detach() or sourceTensor.clone().detach().requires_grad_(True), rather than torch.tensor(sourceTensor).\n",
      "  mean = torch.tensor(mean, dtype=torch.float32)\n",
      "/home/farhan/anaconda3/envs/dreamai/lib/python3.7/site-packages/torchvision/transforms/functional.py:207: UserWarning: To copy construct from a tensor, it is recommended to use sourceTensor.clone().detach() or sourceTensor.clone().detach().requires_grad_(True), rather than torch.tensor(sourceTensor).\n",
      "  std = torch.tensor(std, dtype=torch.float32)\n",
      "/home/farhan/anaconda3/envs/dreamai/lib/python3.7/site-packages/torchvision/transforms/functional.py:206: UserWarning: To copy construct from a tensor, it is recommended to use sourceTensor.clone().detach() or sourceTensor.clone().detach().requires_grad_(True), rather than torch.tensor(sourceTensor).\n",
      "  mean = torch.tensor(mean, dtype=torch.float32)\n",
      "/home/farhan/anaconda3/envs/dreamai/lib/python3.7/site-packages/torchvision/transforms/functional.py:207: UserWarning: To copy construct from a tensor, it is recommended to use sourceTensor.clone().detach() or sourceTensor.clone().detach().requires_grad_(True), rather than torch.tensor(sourceTensor).\n",
      "  std = torch.tensor(std, dtype=torch.float32)\n",
      "/home/farhan/anaconda3/envs/dreamai/lib/python3.7/site-packages/torchvision/transforms/functional.py:206: UserWarning: To copy construct from a tensor, it is recommended to use sourceTensor.clone().detach() or sourceTensor.clone().detach().requires_grad_(True), rather than torch.tensor(sourceTensor).\n",
      "  mean = torch.tensor(mean, dtype=torch.float32)\n",
      "/home/farhan/anaconda3/envs/dreamai/lib/python3.7/site-packages/torchvision/transforms/functional.py:207: UserWarning: To copy construct from a tensor, it is recommended to use sourceTensor.clone().detach() or sourceTensor.clone().detach().requires_grad_(True), rather than torch.tensor(sourceTensor).\n",
      "  std = torch.tensor(std, dtype=torch.float32)\n"
     ]
    },
    {
     "name": "stdout",
     "output_type": "stream",
     "text": [
      "+----------------------------------------------------------------------+\n",
      "06:37:25\n",
      "Time elapsed: 42.559 sec\n",
      "Epoch:8/10\n",
      "Batch: 55/163\n",
      "Batch training time: 42.559 sec\n",
      "Batch training loss: 0.002\n",
      "Average training loss: 0.007\n",
      "+----------------------------------------------------------------------+\n",
      "\n",
      "+----------------------------------------------------------------------+\n",
      "06:38:05\n",
      "Time elapsed: 1.386 min\n",
      "Epoch:8/10\n",
      "Batch: 109/163\n",
      "Batch training time: 40.597 sec\n",
      "Batch training loss: 0.002\n",
      "Average training loss: 0.008\n",
      "+----------------------------------------------------------------------+\n",
      "\n",
      "+----------------------------------------------------------------------+\n",
      "06:38:46\n",
      "Time elapsed: 2.063 min\n",
      "Epoch:8/10\n",
      "Batch: 163/163\n",
      "Batch training time: 40.628 sec\n",
      "Batch training loss: 0.002\n",
      "Average training loss: 0.009\n",
      "+----------------------------------------------------------------------+\n",
      "\n"
     ]
    },
    {
     "name": "stderr",
     "output_type": "stream",
     "text": [
      "/home/farhan/anaconda3/envs/dreamai/lib/python3.7/site-packages/torchvision/transforms/functional.py:206: UserWarning: To copy construct from a tensor, it is recommended to use sourceTensor.clone().detach() or sourceTensor.clone().detach().requires_grad_(True), rather than torch.tensor(sourceTensor).\n",
      "  mean = torch.tensor(mean, dtype=torch.float32)\n",
      "/home/farhan/anaconda3/envs/dreamai/lib/python3.7/site-packages/torchvision/transforms/functional.py:207: UserWarning: To copy construct from a tensor, it is recommended to use sourceTensor.clone().detach() or sourceTensor.clone().detach().requires_grad_(True), rather than torch.tensor(sourceTensor).\n",
      "  std = torch.tensor(std, dtype=torch.float32)\n"
     ]
    },
    {
     "name": "stdout",
     "output_type": "stream",
     "text": [
      "\n",
      "////////////////////////////////////\n",
      "06:38:48\n",
      "Epoch 8/10\n",
      "Validation time: 1.222 sec\n",
      "Epoch training loss: 0.009\n",
      "Epoch validation loss: 0.026\n",
      "Validation accuracy: 100.000\n",
      "\\\\\\\\\\\\\\\\\\\\\\\\\\\\\\\\\\\\\\\\\\\\\\\\\\\\\\\\\\\\\\\\\\\\\\\\\n",
      "\n",
      "\n",
      "**********Updating best accuracy**********\n",
      "\n",
      "Previous best: 100.000\n",
      "New best: 100.000\n",
      "\n",
      "******************************************\n",
      "\n",
      "Epoch:  9/10\n",
      "\n"
     ]
    },
    {
     "name": "stderr",
     "output_type": "stream",
     "text": [
      "/home/farhan/anaconda3/envs/dreamai/lib/python3.7/site-packages/torchvision/transforms/functional.py:206: UserWarning: To copy construct from a tensor, it is recommended to use sourceTensor.clone().detach() or sourceTensor.clone().detach().requires_grad_(True), rather than torch.tensor(sourceTensor).\n",
      "  mean = torch.tensor(mean, dtype=torch.float32)\n",
      "/home/farhan/anaconda3/envs/dreamai/lib/python3.7/site-packages/torchvision/transforms/functional.py:207: UserWarning: To copy construct from a tensor, it is recommended to use sourceTensor.clone().detach() or sourceTensor.clone().detach().requires_grad_(True), rather than torch.tensor(sourceTensor).\n",
      "  std = torch.tensor(std, dtype=torch.float32)\n",
      "/home/farhan/anaconda3/envs/dreamai/lib/python3.7/site-packages/torchvision/transforms/functional.py:206: UserWarning: To copy construct from a tensor, it is recommended to use sourceTensor.clone().detach() or sourceTensor.clone().detach().requires_grad_(True), rather than torch.tensor(sourceTensor).\n",
      "  mean = torch.tensor(mean, dtype=torch.float32)\n",
      "/home/farhan/anaconda3/envs/dreamai/lib/python3.7/site-packages/torchvision/transforms/functional.py:207: UserWarning: To copy construct from a tensor, it is recommended to use sourceTensor.clone().detach() or sourceTensor.clone().detach().requires_grad_(True), rather than torch.tensor(sourceTensor).\n",
      "  std = torch.tensor(std, dtype=torch.float32)\n",
      "/home/farhan/anaconda3/envs/dreamai/lib/python3.7/site-packages/torchvision/transforms/functional.py:206: UserWarning: To copy construct from a tensor, it is recommended to use sourceTensor.clone().detach() or sourceTensor.clone().detach().requires_grad_(True), rather than torch.tensor(sourceTensor).\n",
      "  mean = torch.tensor(mean, dtype=torch.float32)\n",
      "/home/farhan/anaconda3/envs/dreamai/lib/python3.7/site-packages/torchvision/transforms/functional.py:207: UserWarning: To copy construct from a tensor, it is recommended to use sourceTensor.clone().detach() or sourceTensor.clone().detach().requires_grad_(True), rather than torch.tensor(sourceTensor).\n",
      "  std = torch.tensor(std, dtype=torch.float32)\n",
      "/home/farhan/anaconda3/envs/dreamai/lib/python3.7/site-packages/torchvision/transforms/functional.py:206: UserWarning: To copy construct from a tensor, it is recommended to use sourceTensor.clone().detach() or sourceTensor.clone().detach().requires_grad_(True), rather than torch.tensor(sourceTensor).\n",
      "  mean = torch.tensor(mean, dtype=torch.float32)\n",
      "/home/farhan/anaconda3/envs/dreamai/lib/python3.7/site-packages/torchvision/transforms/functional.py:207: UserWarning: To copy construct from a tensor, it is recommended to use sourceTensor.clone().detach() or sourceTensor.clone().detach().requires_grad_(True), rather than torch.tensor(sourceTensor).\n",
      "  std = torch.tensor(std, dtype=torch.float32)\n"
     ]
    },
    {
     "name": "stdout",
     "output_type": "stream",
     "text": [
      "+----------------------------------------------------------------------+\n",
      "06:39:33\n",
      "Time elapsed: 42.327 sec\n",
      "Epoch:9/10\n",
      "Batch: 55/163\n",
      "Batch training time: 42.327 sec\n",
      "Batch training loss: 0.001\n",
      "Average training loss: 0.009\n",
      "+----------------------------------------------------------------------+\n",
      "\n",
      "+----------------------------------------------------------------------+\n",
      "06:40:14\n",
      "Time elapsed: 1.383 min\n",
      "Epoch:9/10\n",
      "Batch: 109/163\n",
      "Batch training time: 40.667 sec\n",
      "Batch training loss: 0.002\n",
      "Average training loss: 0.008\n",
      "+----------------------------------------------------------------------+\n",
      "\n",
      "+----------------------------------------------------------------------+\n",
      "06:40:55\n",
      "Time elapsed: 2.061 min\n",
      "Epoch:9/10\n",
      "Batch: 163/163\n",
      "Batch training time: 40.676 sec\n",
      "Batch training loss: 0.061\n",
      "Average training loss: 0.007\n",
      "+----------------------------------------------------------------------+\n",
      "\n"
     ]
    },
    {
     "name": "stderr",
     "output_type": "stream",
     "text": [
      "/home/farhan/anaconda3/envs/dreamai/lib/python3.7/site-packages/torchvision/transforms/functional.py:206: UserWarning: To copy construct from a tensor, it is recommended to use sourceTensor.clone().detach() or sourceTensor.clone().detach().requires_grad_(True), rather than torch.tensor(sourceTensor).\n",
      "  mean = torch.tensor(mean, dtype=torch.float32)\n",
      "/home/farhan/anaconda3/envs/dreamai/lib/python3.7/site-packages/torchvision/transforms/functional.py:207: UserWarning: To copy construct from a tensor, it is recommended to use sourceTensor.clone().detach() or sourceTensor.clone().detach().requires_grad_(True), rather than torch.tensor(sourceTensor).\n",
      "  std = torch.tensor(std, dtype=torch.float32)\n"
     ]
    },
    {
     "name": "stdout",
     "output_type": "stream",
     "text": [
      "\n",
      "////////////////////////////////////\n",
      "06:40:57\n",
      "Epoch 9/10\n",
      "Validation time: 1.208 sec\n",
      "Epoch training loss: 0.007\n",
      "Epoch validation loss: 0.016\n",
      "Validation accuracy: 100.000\n",
      "\\\\\\\\\\\\\\\\\\\\\\\\\\\\\\\\\\\\\\\\\\\\\\\\\\\\\\\\\\\\\\\\\\\\\\\\\n",
      "\n",
      "\n",
      "**********Updating best accuracy**********\n",
      "\n",
      "Previous best: 100.000\n",
      "New best: 100.000\n",
      "\n",
      "******************************************\n",
      "\n",
      "Epoch: 10/10\n",
      "\n"
     ]
    },
    {
     "name": "stderr",
     "output_type": "stream",
     "text": [
      "/home/farhan/anaconda3/envs/dreamai/lib/python3.7/site-packages/torchvision/transforms/functional.py:206: UserWarning: To copy construct from a tensor, it is recommended to use sourceTensor.clone().detach() or sourceTensor.clone().detach().requires_grad_(True), rather than torch.tensor(sourceTensor).\n",
      "  mean = torch.tensor(mean, dtype=torch.float32)\n",
      "/home/farhan/anaconda3/envs/dreamai/lib/python3.7/site-packages/torchvision/transforms/functional.py:207: UserWarning: To copy construct from a tensor, it is recommended to use sourceTensor.clone().detach() or sourceTensor.clone().detach().requires_grad_(True), rather than torch.tensor(sourceTensor).\n",
      "  std = torch.tensor(std, dtype=torch.float32)\n",
      "/home/farhan/anaconda3/envs/dreamai/lib/python3.7/site-packages/torchvision/transforms/functional.py:206: UserWarning: To copy construct from a tensor, it is recommended to use sourceTensor.clone().detach() or sourceTensor.clone().detach().requires_grad_(True), rather than torch.tensor(sourceTensor).\n",
      "  mean = torch.tensor(mean, dtype=torch.float32)\n",
      "/home/farhan/anaconda3/envs/dreamai/lib/python3.7/site-packages/torchvision/transforms/functional.py:207: UserWarning: To copy construct from a tensor, it is recommended to use sourceTensor.clone().detach() or sourceTensor.clone().detach().requires_grad_(True), rather than torch.tensor(sourceTensor).\n",
      "  std = torch.tensor(std, dtype=torch.float32)\n",
      "/home/farhan/anaconda3/envs/dreamai/lib/python3.7/site-packages/torchvision/transforms/functional.py:206: UserWarning: To copy construct from a tensor, it is recommended to use sourceTensor.clone().detach() or sourceTensor.clone().detach().requires_grad_(True), rather than torch.tensor(sourceTensor).\n",
      "  mean = torch.tensor(mean, dtype=torch.float32)\n",
      "/home/farhan/anaconda3/envs/dreamai/lib/python3.7/site-packages/torchvision/transforms/functional.py:207: UserWarning: To copy construct from a tensor, it is recommended to use sourceTensor.clone().detach() or sourceTensor.clone().detach().requires_grad_(True), rather than torch.tensor(sourceTensor).\n",
      "  std = torch.tensor(std, dtype=torch.float32)\n",
      "/home/farhan/anaconda3/envs/dreamai/lib/python3.7/site-packages/torchvision/transforms/functional.py:206: UserWarning: To copy construct from a tensor, it is recommended to use sourceTensor.clone().detach() or sourceTensor.clone().detach().requires_grad_(True), rather than torch.tensor(sourceTensor).\n",
      "  mean = torch.tensor(mean, dtype=torch.float32)\n",
      "/home/farhan/anaconda3/envs/dreamai/lib/python3.7/site-packages/torchvision/transforms/functional.py:207: UserWarning: To copy construct from a tensor, it is recommended to use sourceTensor.clone().detach() or sourceTensor.clone().detach().requires_grad_(True), rather than torch.tensor(sourceTensor).\n",
      "  std = torch.tensor(std, dtype=torch.float32)\n"
     ]
    },
    {
     "name": "stdout",
     "output_type": "stream",
     "text": [
      "+----------------------------------------------------------------------+\n",
      "06:41:42\n",
      "Time elapsed: 42.317 sec\n",
      "Epoch:10/10\n",
      "Batch: 55/163\n",
      "Batch training time: 42.317 sec\n",
      "Batch training loss: 0.001\n",
      "Average training loss: 0.009\n",
      "+----------------------------------------------------------------------+\n",
      "\n",
      "+----------------------------------------------------------------------+\n",
      "06:42:23\n",
      "Time elapsed: 1.383 min\n",
      "Epoch:10/10\n",
      "Batch: 109/163\n",
      "Batch training time: 40.657 sec\n",
      "Batch training loss: 0.003\n",
      "Average training loss: 0.006\n",
      "+----------------------------------------------------------------------+\n",
      "\n",
      "+----------------------------------------------------------------------+\n",
      "06:43:03\n",
      "Time elapsed: 2.061 min\n",
      "Epoch:10/10\n",
      "Batch: 163/163\n",
      "Batch training time: 40.655 sec\n",
      "Batch training loss: 0.002\n",
      "Average training loss: 0.007\n",
      "+----------------------------------------------------------------------+\n",
      "\n"
     ]
    },
    {
     "name": "stderr",
     "output_type": "stream",
     "text": [
      "/home/farhan/anaconda3/envs/dreamai/lib/python3.7/site-packages/torchvision/transforms/functional.py:206: UserWarning: To copy construct from a tensor, it is recommended to use sourceTensor.clone().detach() or sourceTensor.clone().detach().requires_grad_(True), rather than torch.tensor(sourceTensor).\n",
      "  mean = torch.tensor(mean, dtype=torch.float32)\n",
      "/home/farhan/anaconda3/envs/dreamai/lib/python3.7/site-packages/torchvision/transforms/functional.py:207: UserWarning: To copy construct from a tensor, it is recommended to use sourceTensor.clone().detach() or sourceTensor.clone().detach().requires_grad_(True), rather than torch.tensor(sourceTensor).\n",
      "  std = torch.tensor(std, dtype=torch.float32)\n"
     ]
    },
    {
     "name": "stdout",
     "output_type": "stream",
     "text": [
      "\n",
      "////////////////////////////////////\n",
      "06:43:05\n",
      "Epoch 10/10\n",
      "Validation time: 1.221 sec\n",
      "Epoch training loss: 0.006\n",
      "Epoch validation loss: 0.105\n",
      "Validation accuracy: 93.750\n",
      "\\\\\\\\\\\\\\\\\\\\\\\\\\\\\\\\\\\\\\\\\\\\\\\\\\\\\\\\\\\\\\\\\\\\\\\\\n",
      "\n",
      "\n",
      "Loading best model\n",
      "\n"
     ]
    }
   ],
   "source": [
    "net.fit(loaders[train_name],loaders[val_name],epochs=10,print_every=print_every)"
   ]
  },
  {
   "cell_type": "code",
   "execution_count": null,
   "metadata": {},
   "outputs": [],
   "source": []
  },
  {
   "cell_type": "code",
   "execution_count": 16,
   "metadata": {},
   "outputs": [],
   "source": [
    "# Save the 'cv_model.TransferNetworkImg' object for later\n",
    "\n",
    "data_processing.save_obj(net,'best_chest_xray_net.pkl')"
   ]
  },
  {
   "cell_type": "markdown",
   "metadata": {},
   "source": [
    "## Evaluation"
   ]
  },
  {
   "cell_type": "markdown",
   "metadata": {},
   "source": [
    "As you can see, the accuracy quickly hit 100%, but the loss was constantly falling. Let's evaluate our model after training for only 10 epochs."
   ]
  },
  {
   "cell_type": "code",
   "execution_count": 17,
   "metadata": {},
   "outputs": [
    {
     "name": "stderr",
     "output_type": "stream",
     "text": [
      "/home/farhan/anaconda3/envs/dreamai/lib/python3.7/site-packages/torchvision/transforms/functional.py:206: UserWarning: To copy construct from a tensor, it is recommended to use sourceTensor.clone().detach() or sourceTensor.clone().detach().requires_grad_(True), rather than torch.tensor(sourceTensor).\n",
      "  mean = torch.tensor(mean, dtype=torch.float32)\n",
      "/home/farhan/anaconda3/envs/dreamai/lib/python3.7/site-packages/torchvision/transforms/functional.py:207: UserWarning: To copy construct from a tensor, it is recommended to use sourceTensor.clone().detach() or sourceTensor.clone().detach().requires_grad_(True), rather than torch.tensor(sourceTensor).\n",
      "  std = torch.tensor(std, dtype=torch.float32)\n",
      "/home/farhan/anaconda3/envs/dreamai/lib/python3.7/site-packages/torchvision/transforms/functional.py:206: UserWarning: To copy construct from a tensor, it is recommended to use sourceTensor.clone().detach() or sourceTensor.clone().detach().requires_grad_(True), rather than torch.tensor(sourceTensor).\n",
      "  mean = torch.tensor(mean, dtype=torch.float32)\n",
      "/home/farhan/anaconda3/envs/dreamai/lib/python3.7/site-packages/torchvision/transforms/functional.py:207: UserWarning: To copy construct from a tensor, it is recommended to use sourceTensor.clone().detach() or sourceTensor.clone().detach().requires_grad_(True), rather than torch.tensor(sourceTensor).\n",
      "  std = torch.tensor(std, dtype=torch.float32)\n",
      "/home/farhan/anaconda3/envs/dreamai/lib/python3.7/site-packages/torchvision/transforms/functional.py:206: UserWarning: To copy construct from a tensor, it is recommended to use sourceTensor.clone().detach() or sourceTensor.clone().detach().requires_grad_(True), rather than torch.tensor(sourceTensor).\n",
      "  mean = torch.tensor(mean, dtype=torch.float32)\n",
      "/home/farhan/anaconda3/envs/dreamai/lib/python3.7/site-packages/torchvision/transforms/functional.py:207: UserWarning: To copy construct from a tensor, it is recommended to use sourceTensor.clone().detach() or sourceTensor.clone().detach().requires_grad_(True), rather than torch.tensor(sourceTensor).\n",
      "  std = torch.tensor(std, dtype=torch.float32)\n",
      "/home/farhan/anaconda3/envs/dreamai/lib/python3.7/site-packages/torchvision/transforms/functional.py:206: UserWarning: To copy construct from a tensor, it is recommended to use sourceTensor.clone().detach() or sourceTensor.clone().detach().requires_grad_(True), rather than torch.tensor(sourceTensor).\n",
      "  mean = torch.tensor(mean, dtype=torch.float32)\n",
      "/home/farhan/anaconda3/envs/dreamai/lib/python3.7/site-packages/torchvision/transforms/functional.py:207: UserWarning: To copy construct from a tensor, it is recommended to use sourceTensor.clone().detach() or sourceTensor.clone().detach().requires_grad_(True), rather than torch.tensor(sourceTensor).\n",
      "  std = torch.tensor(std, dtype=torch.float32)\n"
     ]
    }
   ],
   "source": [
    "eval_dict = net.evaluate(loaders[test_name])"
   ]
  },
  {
   "cell_type": "code",
   "execution_count": 24,
   "metadata": {},
   "outputs": [
    {
     "name": "stdout",
     "output_type": "stream",
     "text": [
      "89.58333333333333\n"
     ]
    }
   ],
   "source": [
    "print(eval_dict['accuracy'])"
   ]
  },
  {
   "cell_type": "code",
   "execution_count": 22,
   "metadata": {},
   "outputs": [
    {
     "name": "stdout",
     "output_type": "stream",
     "text": [
      "[('NORMAL', 73.07692307692307), ('PNEUMONIA', 99.48717948717949)]\n"
     ]
    }
   ],
   "source": [
    "print(eval_dict['class_accuracies'])"
   ]
  },
  {
   "cell_type": "code",
   "execution_count": 46,
   "metadata": {},
   "outputs": [
    {
     "name": "stdout",
     "output_type": "stream",
     "text": [
      "              precision    recall  f1-score   support\n",
      "\n",
      "      NORMAL       0.98      0.60      0.75       234\n",
      "   PNEUMONIA       0.81      0.99      0.89       390\n",
      "\n",
      "   micro avg       0.85      0.85      0.85       624\n",
      "   macro avg       0.89      0.80      0.82       624\n",
      "weighted avg       0.87      0.85      0.84       624\n",
      "\n"
     ]
    }
   ],
   "source": [
    "# Recall is very important in medical use cases and our model has 0.99 recall on x-rays labelled PNEUMONIA\n",
    "\n",
    "print(eval_dict['report'])"
   ]
  },
  {
   "cell_type": "code",
   "execution_count": 23,
   "metadata": {},
   "outputs": [
    {
     "name": "stdout",
     "output_type": "stream",
     "text": [
      "[[171  63]\n",
      " [  2 388]]\n"
     ]
    }
   ],
   "source": [
    "print(eval_dict['confusion_matrix'])"
   ]
  },
  {
   "cell_type": "code",
   "execution_count": 49,
   "metadata": {},
   "outputs": [
    {
     "data": {
      "text/plain": [
       "0.7974358974358975"
      ]
     },
     "execution_count": 49,
     "metadata": {},
     "output_type": "execute_result"
    }
   ],
   "source": [
    "eval_dict['roc_auc_score']"
   ]
  },
  {
   "cell_type": "markdown",
   "metadata": {},
   "source": [
    "Let's visualize the data distribution.\n",
    "\n",
    "Note: DreamAI uses data augmentation to balance the data while training."
   ]
  },
  {
   "cell_type": "code",
   "execution_count": 27,
   "metadata": {},
   "outputs": [
    {
     "data": {
      "text/plain": [
       "array([[<matplotlib.axes._subplots.AxesSubplot object at 0x7f2300212710>]],\n",
       "      dtype=object)"
      ]
     },
     "execution_count": 27,
     "metadata": {},
     "output_type": "execute_result"
    },
    {
     "data": {
      "image/png": "[encoded data removed]",
      "text/plain": [
       "<Figure size 432x288 with 1 Axes>"
      ]
     },
     "metadata": {
      "needs_background": "light"
     },
     "output_type": "display_data"
    }
   ],
   "source": [
    "data_dict['data_dfs'][test_name].hist()"
   ]
  },
  {
   "cell_type": "code",
   "execution_count": 29,
   "metadata": {},
   "outputs": [
    {
     "data": {
      "text/plain": [
       "1    390\n",
       "0    234\n",
       "Name: Label, dtype: int64"
      ]
     },
     "execution_count": 29,
     "metadata": {},
     "output_type": "execute_result"
    }
   ],
   "source": [
    "data_dict['data_dfs'][test_name]['Label'].value_counts()"
   ]
  },
  {
   "cell_type": "markdown",
   "metadata": {},
   "source": [
    "There are several ways to improve these results such as hyperparameter tuning, training for more epochs, using a different model etc.\n",
    "\n",
    "But this is just to show how easy it is to train a high accuracy image classifier using DreamAI."
   ]
  }
 ],
 "metadata": {
  "kernelspec": {
   "display_name": "Python 3",
   "language": "python",
   "name": "python3"
  },
  "language_info": {
   "codemirror_mode": {
    "name": "ipython",
    "version": 3
   },
   "file_extension": ".py",
   "mimetype": "text/x-python",
   "name": "python",
   "nbconvert_exporter": "python",
   "pygments_lexer": "ipython3",
   "version": "3.7.1"
  }
 },
 "nbformat": 4,
 "nbformat_minor": 2
}
